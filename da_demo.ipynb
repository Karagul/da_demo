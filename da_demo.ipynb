{
  "nbformat": 4,
  "nbformat_minor": 0,
  "metadata": {
    "colab": {
      "name": "da_demo.ipynb",
      "provenance": [],
      "collapsed_sections": [],
      "include_colab_link": true
    },
    "kernelspec": {
      "name": "python3",
      "display_name": "Python 3"
    }
  },
  "cells": [
    {
      "cell_type": "markdown",
      "metadata": {
        "id": "view-in-github",
        "colab_type": "text"
      },
      "source": [
        "<a href=\"https://colab.research.google.com/github/otsuka-shigenori/da_demo/blob/master/da_demo.ipynb\" target=\"_parent\"><img src=\"https://colab.research.google.com/assets/colab-badge.svg\" alt=\"Open In Colab\"/></a>"
      ]
    },
    {
      "cell_type": "markdown",
      "metadata": {
        "id": "m6RN4Q4SvKZj",
        "colab_type": "text"
      },
      "source": [
        "このノートブックではデータ同化の基礎的なアルゴリズムを示します。\n",
        "\n",
        "1. 実験に使うカオス力学系のモデルを用意\n",
        "2. 拡張カルマンフィルタの実装\n",
        "3. アンサンブルカルマンフィルタを摂動観測法で実装\n",
        "4. アンサンブルカルマンフィルタをLETKFで実装\n",
        "\n",
        "まずはライブラリの読み込みを行います。"
      ]
    },
    {
      "cell_type": "code",
      "metadata": {
        "id": "wXxK4hDTtw-S",
        "colab_type": "code",
        "colab": {}
      },
      "source": [
        "import math                              # 数学ライブラリ\n",
        "import numpy as np                       # 数値計算用の配列\n",
        "import numpy.linalg as LA                # 行列計算ライブラリ\n",
        "import matplotlib.pyplot as plt          # 可視化ライブラリ"
      ],
      "execution_count": 0,
      "outputs": []
    },
    {
      "cell_type": "markdown",
      "metadata": {
        "id": "sPBov05igeHf",
        "colab_type": "text"
      },
      "source": [
        "Lorenz and Emanuel (1998, <i>Journal of the Atmospheric Science</i>)のカオス力学系を題材にします。\n",
        "\n",
        "地球を東西に一周する大気の変動を模したモデルです。\n",
        "モデルの方程式は以下で与えられます。\n",
        "\n",
        "dx<sub>j</sub>/dt = (x<sub>j+1</sub> - x<sub>j-2</sub>)x<sub>j-1</sub> - x<sub>j</sub> + F\n",
        "\n",
        "j = 1, ..., n, 周期境界条件\n",
        "\n",
        "第一項は波動の伝播、第二項はエネルギー減衰、第三項のFは外部強制力を模していて、Fが4以上になると徐々に非周期解に遷移し、Fが大きいほどカオス的に振る舞います。\n",
        "\n",
        "通常、n = 40 を使います。以下の実験では F = 8 とします。\n",
        "\n",
        "以下、時刻 i の x<sub>j</sub>, j = 1, ..., n をまとめて x<sub>i</sub> と表します。"
      ]
    },
    {
      "cell_type": "code",
      "metadata": {
        "id": "9KkTvzfouGpX",
        "colab_type": "code",
        "colab": {}
      },
      "source": [
        "class Lorenz96:\n",
        "  \"\"\"\n",
        "  This class provides the Lorenz96 model equations and the 4th-order Runge-Kutta solver.\n",
        "  \"\"\"\n",
        "  def __init__(self, n = 40, f = 8, dt = 0.005, init_x = None):\n",
        "    self.f = f\n",
        "    self.dt = dt\n",
        "    if init_x is not None:\n",
        "      self.x = init_x\n",
        "    else:\n",
        "      self.x = np.zeros(n, dtype=np.float64)\n",
        "    # temporary memory\n",
        "    self.tmpx = np.zeros(n + 3, dtype=np.float64)\n",
        "    self.tmpdx = np.zeros(n, dtype=np.float64)\n",
        "    return\n",
        "  \n",
        "  def dx_dt(self, y):\n",
        "    n = y.shape[0]\n",
        "    m = n + 3\n",
        "    self.tmpx[2:(m - 1)] = y[:]\n",
        "    # cyclic boundary condition\n",
        "    self.tmpx[0:2] = y[(n - 2):n]\n",
        "    self.tmpx[m - 1] = y[0]\n",
        "    #self.tmpdx = (self.tmpx[3:m] - self.tmpx[0:(m - 3)]) * self.tmpx[1:(m - 2)] - self.tmpx[2:(m - 1)] + self.f\n",
        "    self.tmpdx[:] = self.tmpx[3:m]\n",
        "    self.tmpdx   -= self.tmpx[0:(m - 3)]\n",
        "    self.tmpdx   *= self.tmpx[1:(m - 2)]\n",
        "    self.tmpdx   -= self.tmpx[2:(m - 1)]\n",
        "    self.tmpdx   += self.f\n",
        "    return self.tmpdx\n",
        "\n",
        "  def runge_kutta(self):\n",
        "    dx1 = self.dx_dt(self.x)\n",
        "    x1  = self.x + dx1 * (self.dt * 0.5)\n",
        "    dx2 = self.dx_dt(x1)\n",
        "    x2  = self.x + dx2 * (self.dt * 0.5)\n",
        "    dx3 = self.dx_dt(x2)\n",
        "    x3  = self.x + dx3 * self.dt\n",
        "    dx4 = self.dx_dt(x3)\n",
        "    self.x += (dx1 + 2.0 * (dx2 + dx3) + dx4) * (self.dt / 6.0)\n",
        "    return self.x\n"
      ],
      "execution_count": 0,
      "outputs": []
    },
    {
      "cell_type": "markdown",
      "metadata": {
        "id": "8DpukUa2JSvU",
        "colab_type": "text"
      },
      "source": [
        "以下で使うモデルのサイズをここで設定しておきます。もし実行が遅いと感じる場合は、n = 20 などに減らしてみて下さい。"
      ]
    },
    {
      "cell_type": "code",
      "metadata": {
        "id": "6lZp6qVnJcFD",
        "colab_type": "code",
        "colab": {}
      },
      "source": [
        "# model size\n",
        "n = 40"
      ],
      "execution_count": 0,
      "outputs": []
    },
    {
      "cell_type": "markdown",
      "metadata": {
        "id": "oNaaIy6pgRNB",
        "colab_type": "text"
      },
      "source": [
        "適当な乱数を初期値に与えてモデルを実行し、真値とします。\n",
        "\n",
        "真値に正規乱数を加えて疑似観測データを生成します。\n",
        "\n",
        "疑似観測データを別のモデル（同じでも良い）でデータ同化する実験を行います。\n",
        "\n",
        "Observing System Simulation Experiment (OSSE)と呼びます。"
      ]
    },
    {
      "cell_type": "markdown",
      "metadata": {
        "id": "iPgI6AQGcqoC",
        "colab_type": "text"
      },
      "source": [
        "真値  x<sup>t</sup><sub>i</sub> を作成します。"
      ]
    },
    {
      "cell_type": "code",
      "metadata": {
        "id": "71pU0Iy2SOB1",
        "colab_type": "code",
        "colab": {
          "base_uri": "https://localhost:8080/",
          "height": 34
        },
        "outputId": "a4013573-922f-49db-d114-c2eb2e79c203"
      },
      "source": [
        "exp_length = 40 * 365\n",
        "\n",
        "x0 = np.array(np.random.randn(n), dtype=np.float64)\n",
        "l96 = Lorenz96(n, init_x = x0)\n",
        "nature = []\n",
        "for i in range(exp_length):\n",
        "  nature.append(l96.runge_kutta().copy())\n",
        "nature = np.array(nature, dtype=np.float64)\n",
        "\n",
        "print(nature.shape)\n"
      ],
      "execution_count": 37,
      "outputs": [
        {
          "output_type": "stream",
          "text": [
            "(14600, 40)\n"
          ],
          "name": "stdout"
        }
      ]
    },
    {
      "cell_type": "markdown",
      "metadata": {
        "id": "RqqmDNUxgJM5",
        "colab_type": "text"
      },
      "source": [
        "作成した真値を可視化してみます"
      ]
    },
    {
      "cell_type": "code",
      "metadata": {
        "id": "USkgRkh8b3dr",
        "colab_type": "code",
        "colab": {
          "base_uri": "https://localhost:8080/",
          "height": 300
        },
        "outputId": "27a99969-02f5-4d36-9fc0-88c1d20f84df"
      },
      "source": [
        "plt.contourf(nature[0:(40 * 30), :])\n",
        "plt.xlabel('location')\n",
        "plt.ylabel('time step')\n",
        "plt.colorbar()"
      ],
      "execution_count": 38,
      "outputs": [
        {
          "output_type": "execute_result",
          "data": {
            "text/plain": [
              "<matplotlib.colorbar.Colorbar at 0x7fa9066edac8>"
            ]
          },
          "metadata": {
            "tags": []
          },
          "execution_count": 38
        },
        {
          "output_type": "display_data",
          "data": {
            "image/png": "[encoded data removed]",
            "text/plain": [
              "<Figure size 432x288 with 2 Axes>"
            ]
          },
          "metadata": {
            "tags": []
          }
        }
      ]
    },
    {
      "cell_type": "markdown",
      "metadata": {
        "id": "9sJbqXIHNI1R",
        "colab_type": "text"
      },
      "source": [
        "カオス力学系であることを見てみましょう。真値に途中で微小擾乱を与えて、続きを計算してみます。両者の差の時間変化を見てみます。"
      ]
    },
    {
      "cell_type": "code",
      "metadata": {
        "id": "LOfV4bbpNQhQ",
        "colab_type": "code",
        "colab": {
          "base_uri": "https://localhost:8080/",
          "height": 298
        },
        "outputId": "a780e4d2-565b-469c-e036-e5ecfc246e12"
      },
      "source": [
        "iter_pert = 10 * 365\n",
        "\n",
        "xpert = nature[iter_pert].copy()\n",
        "xpert[0] += 1.0e-5\n",
        "l96 = Lorenz96(n, init_x = xpert)\n",
        "perturbed = [xpert.copy()]\n",
        "t = [0]\n",
        "for i in range(exp_length - iter_pert - 1):\n",
        "  perturbed.append(l96.runge_kutta().copy())\n",
        "  t.append(i)\n",
        "perturbed = np.array(perturbed, dtype=np.float64)\n",
        "\n",
        "diff = perturbed - nature[iter_pert:]\n",
        "rmse = np.sqrt(np.sum(diff * diff, 1) / n)\n",
        "\n",
        "plt.plot(t, rmse)\n",
        "plt.yscale('log')\n",
        "plt.xlabel('time step')\n",
        "plt.ylabel('root mean square error')"
      ],
      "execution_count": 39,
      "outputs": [
        {
          "output_type": "execute_result",
          "data": {
            "text/plain": [
              "Text(0, 0.5, 'root mean square error')"
            ]
          },
          "metadata": {
            "tags": []
          },
          "execution_count": 39
        },
        {
          "output_type": "display_data",
          "data": {
            "image/png": "[encoded data removed]",
            "text/plain": [
              "<Figure size 432x288 with 1 Axes>"
            ]
          },
          "metadata": {
            "tags": []
          }
        }
      ]
    },
    {
      "cell_type": "markdown",
      "metadata": {
        "id": "shZOkUG4P-2t",
        "colab_type": "text"
      },
      "source": [
        "最初はroot mean square errorが指数関数的に増大していきます。あるところまで増大すると、誤差の非線形性が卓越してきて、誤差の振幅が飽和します。"
      ]
    },
    {
      "cell_type": "markdown",
      "metadata": {
        "id": "u5yW_k26v9hf",
        "colab_type": "text"
      },
      "source": [
        "データ同化実験の準備をします。\n",
        "\n",
        "真値に平均0、分散1の正規乱数を加えて疑似観測 y<sup>o</sup><sub>i</sub> を作成します"
      ]
    },
    {
      "cell_type": "code",
      "metadata": {
        "id": "0Eh1OwOtm0WM",
        "colab_type": "code",
        "colab": {}
      },
      "source": [
        "obs_err_std = 1.0\n",
        "obs = nature + np.random.randn(nature.shape[0], nature.shape[1]) * obs_err_std"
      ],
      "execution_count": 0,
      "outputs": []
    },
    {
      "cell_type": "code",
      "metadata": {
        "id": "5hQJWBNyvwm_",
        "colab_type": "code",
        "colab": {
          "base_uri": "https://localhost:8080/",
          "height": 300
        },
        "outputId": "1290e2f3-6252-4fef-ba2a-18dde5fc4b6b"
      },
      "source": [
        "plt.contourf(obs[0:(40 * 30), :])\n",
        "plt.xlabel('location')\n",
        "plt.ylabel('time step')\n",
        "plt.colorbar()"
      ],
      "execution_count": 41,
      "outputs": [
        {
          "output_type": "execute_result",
          "data": {
            "text/plain": [
              "<matplotlib.colorbar.Colorbar at 0x7fa9062017f0>"
            ]
          },
          "metadata": {
            "tags": []
          },
          "execution_count": 41
        },
        {
          "output_type": "display_data",
          "data": {
            "image/png": "[encoded data removed]",
            "text/plain": [
              "<Figure size 432x288 with 2 Axes>"
            ]
          },
          "metadata": {
            "tags": []
          }
        }
      ]
    },
    {
      "cell_type": "markdown",
      "metadata": {
        "id": "8JG1HTLa2hX-",
        "colab_type": "text"
      },
      "source": [
        "最初の方はモデルが十分に落ち着いていないので捨てます。"
      ]
    },
    {
      "cell_type": "code",
      "metadata": {
        "id": "hlPaXUCZ2p_t",
        "colab_type": "code",
        "colab": {}
      },
      "source": [
        "n_spinup = 40 * 30\n",
        "nature = nature[n_spinup:]\n",
        "obs = obs[n_spinup:]\n",
        "exp_length -= n_spinup"
      ],
      "execution_count": 0,
      "outputs": []
    },
    {
      "cell_type": "markdown",
      "metadata": {
        "id": "N9WlApUmrBxG",
        "colab_type": "text"
      },
      "source": [
        "拡張カルマンフィルタを構築します。以下の式で与えられます。\n",
        "\n",
        "1. 時刻 i から i + 1 への予報：\n",
        "\n",
        "x<sup>f</sup><sub>i + 1</sub> = m(x<sup>a</sup><sub>i</sub>) ：状態変数の予報\n",
        "\n",
        "M<sub>i</sub> = (∂m/∂x)|<sub>(x<sup>a</sup><sub>i</sub></sub>, <sub>x<sup>f</sup><sub>i + 1</sub>)</sub> ：接線型モデル\n",
        "\n",
        "P<sup>f</sup><sub>i + 1</sub> = M<sub>i</sub>P<sup>a</sup><sub>i</sub>M<sup>T</sup><sub>i</sub> ：予報誤差共分散\n",
        "\n",
        "2. 時刻 i での解析：\n",
        "\n",
        "y<sup>o</sup><sub>i</sub> ：観測データ\n",
        "\n",
        "y<sup>f</sup><sub>i</sub> = h<sub>i</sub>(x<sup>f</sup><sub>i</sub>) ：モデル状態変数 x<sup>f</sup><sub>i</sub> から観測相当量 y<sup>f</sup><sub>i</sub> への写像（観測演算子）\n",
        "\n",
        "H<sub>i</sub> ：観測演算子の接線形近似（以下では観測演算子が線形と仮定して h<sub>i</sub> をそのまま使用）\n",
        "\n",
        "R<sub>i</sub> ：観測誤差共分散（独立性が仮定できれば対角行列）\n",
        "\n",
        "K<sub>i</sub> = P<sup>f</sup><sub>i</sub> H<sup>T</sup><sub>i</sub> (H<sub>i</sub> P<sup>f</sup><sub>i</sub> H<sup>T</sup><sub>i</sub> + R<sub>i</sub>)<sup>-1</sup> ：カルマンゲイン\n",
        "\n",
        "x<sup>a</sup><sub>i</sub> = x<sup>f</sup><sub>i</sub> + K<sub>i</sub> (y<sup>o</sup><sub>i</sub> - y<sup>f</sup><sub>i</sub>) ：状態変数の解析\n",
        "\n",
        "P<sup>a</sup><sub>i</sub> = (I - K<sub>i</sub>H<sub>i</sub>)P<sup>f</sup><sub>i</sub> ：解析誤差共分散"
      ]
    },
    {
      "cell_type": "code",
      "metadata": {
        "id": "nQBBJdOJfJxi",
        "colab_type": "code",
        "colab": {}
      },
      "source": [
        "class KalmanFilter:\n",
        "  def __init__(self, model, n = 40, f = 8, dt = 0.005):\n",
        "    \"\"\"\n",
        "    model: model constructor\n",
        "    n: model size\n",
        "    f: external forcing\n",
        "    dt: time interval of model time integration\n",
        "    n, f, dt will be passed to the model constructor\n",
        "    \"\"\"\n",
        "    self.n = n\n",
        "    self.f = f\n",
        "    self.dt = dt\n",
        "    # model for the state\n",
        "    self.model = model(n, f, dt)\n",
        "    # models to approximate tangent linear model\n",
        "    self.ensemble = []\n",
        "    for i in range(n):\n",
        "      self.ensemble.append(model(n, f, dt))\n",
        "    # background error covariance matrix\n",
        "    self.p_f = np.identity(n, dtype=np.float64)\n",
        "    return\n",
        "  \n",
        "  def forward(self):\n",
        "    \"\"\"\n",
        "    This function updates the model state and the background error covariance matrix.\n",
        "    \"\"\"\n",
        "    tmpx = self.model.x.copy()\n",
        "    # update state\n",
        "    self.model.runge_kutta()\n",
        "    # approximate tangent linear model\n",
        "    eps = 1.0e-8\n",
        "    m = np.zeros_like(self.p_f)\n",
        "    for i in range(self.n):\n",
        "      self.ensemble[i].x[:] = tmpx[:]\n",
        "      self.ensemble[i].x[i] += eps\n",
        "      self.ensemble[i].runge_kutta()\n",
        "      m[:, i] = self.ensemble[i].x[:]\n",
        "    m -= self.model.x[:, np.newaxis]\n",
        "    m /= eps\n",
        "    # update background error covariance matrix\n",
        "    self.p_f = m @ self.p_f @ (m.T)\n",
        "    return self.model.x, self.p_f\n",
        "\n",
        "  def analysis(self, h, y, r):\n",
        "    \"\"\"\n",
        "    This function performs the Kalman filtering.\n",
        "    h: observation operator matrix\n",
        "    y: a vector of observations\n",
        "    r: observation error covariance matrix\n",
        "    \"\"\"\n",
        "    if len(self.model.x.shape) == 1:\n",
        "      xx = self.model.x[:, np.newaxis]\n",
        "    else:\n",
        "      xx = self.model.x\n",
        "    if len(y.shape) == 1:\n",
        "      yy = y[:, np.newaxis]\n",
        "    else:\n",
        "      yy = y\n",
        "    kalman_gain = self.p_f @ (h.T) @ LA.inv(h @ self.p_f @ (h.T) + r)\n",
        "    xx += kalman_gain @ (yy - h @ xx)\n",
        "    self.p_f = (np.identity(self.n, dtype=np.float64) - kalman_gain @ h) @ self.p_f\n",
        "    return self.model.x, self.p_f"
      ],
      "execution_count": 0,
      "outputs": []
    },
    {
      "cell_type": "markdown",
      "metadata": {
        "id": "zcFVauLv3CAj",
        "colab_type": "text"
      },
      "source": [
        "データ同化サイクルを回してみます。\n",
        "\n",
        "n = 40 として、40点すべてを観測するとします。\n",
        "データ同化の頻度は、モデルの時間積分10ステップに1回とします。\n",
        "\n",
        "状態変数の初期値は 0、予報誤差共分散行列の初期値は単位行列にしています。\n",
        "\n",
        "（Lorenz96モデルはF=8の時に、0.4無次元時間で誤差が約2倍になります。地球大気では大規模波動（温帯低気圧など）の誤差が2日で倍になる傾向があるため、ここでは0.2無次元時間を1日と考え、通常の気象観測と同様に1日4回観測することにします。）"
      ]
    },
    {
      "cell_type": "code",
      "metadata": {
        "id": "taipqFDfnS7k",
        "colab_type": "code",
        "colab": {
          "base_uri": "https://localhost:8080/",
          "height": 272
        },
        "outputId": "9ebec771-d02e-482d-8fb1-cfbe33006235"
      },
      "source": [
        "kf = KalmanFilter(Lorenz96, n)\n",
        "# set observation error covariance matrix (diagonal)\n",
        "r = np.identity(n, dtype=np.float64) * obs_err_std\n",
        "# set observation operator matrix (use identity)\n",
        "h = np.identity(n, dtype=np.float64)\n",
        "x = []\n",
        "analysis_intv = 10\n",
        "\n",
        "# MAIN LOOP\n",
        "for i in range(exp_length // analysis_intv):\n",
        "  for j in range(analysis_intv):\n",
        "    # time (i * analysis_intv + j) to (i * analysis_intv + j + 1)\n",
        "    xf, pf = kf.forward()\n",
        "  if (i + 1) * analysis_intv < exp_length:\n",
        "    if i % 100 == 0:\n",
        "      print(\"analysis \", i)\n",
        "    else:\n",
        "      print(\".\", end=\"\")\n",
        "    xa, pa = kf.analysis(h, obs[(i + 1) * analysis_intv, :], r)\n",
        "    x.append(((i + 1) * analysis_intv, xa.copy()))\n",
        "print(\"done\")"
      ],
      "execution_count": 44,
      "outputs": [
        {
          "output_type": "stream",
          "text": [
            "analysis  0\n",
            "...................................................................................................analysis  100\n",
            "...................................................................................................analysis  200\n",
            "...................................................................................................analysis  300\n",
            "...................................................................................................analysis  400\n",
            "...................................................................................................analysis  500\n",
            "...................................................................................................analysis  600\n",
            "...................................................................................................analysis  700\n",
            "...................................................................................................analysis  800\n",
            "...................................................................................................analysis  900\n",
            "...................................................................................................analysis  1000\n",
            "...................................................................................................analysis  1100\n",
            "...................................................................................................analysis  1200\n",
            "...................................................................................................analysis  1300\n",
            "......................................done\n"
          ],
          "name": "stdout"
        }
      ]
    },
    {
      "cell_type": "markdown",
      "metadata": {
        "id": "u63p4jSpyHvj",
        "colab_type": "text"
      },
      "source": [
        "うまく動いたか、確認します。真値とのずれをroot mean square errorの時系列で見てみます。\n",
        "\n",
        "観測誤差を1.0としているので、それより大きいか小さいか確認します。"
      ]
    },
    {
      "cell_type": "code",
      "metadata": {
        "id": "U-6Dm_y_yQhb",
        "colab_type": "code",
        "colab": {
          "base_uri": "https://localhost:8080/",
          "height": 296
        },
        "outputId": "5f9221e1-d6dc-4d45-fea9-1e3a61c8f205"
      },
      "source": [
        "rmse = []\n",
        "for xx in x:\n",
        "  if xx[0] < nature.shape[0]:\n",
        "    rmse.append((xx[0], math.sqrt(((nature[xx[0]] - xx[1]) ** 2).sum() / n)))\n",
        "rmse = np.array(rmse) \n",
        "\n",
        "plt.plot(rmse[:, 0], rmse[:, 1])\n",
        "plt.xlabel('time step')\n",
        "plt.ylabel('root mean square error')"
      ],
      "execution_count": 45,
      "outputs": [
        {
          "output_type": "execute_result",
          "data": {
            "text/plain": [
              "Text(0, 0.5, 'root mean square error')"
            ]
          },
          "metadata": {
            "tags": []
          },
          "execution_count": 45
        },
        {
          "output_type": "display_data",
          "data": {
            "image/png": "[encoded data removed]",
            "text/plain": [
              "<Figure size 432x288 with 1 Axes>"
            ]
          },
          "metadata": {
            "tags": []
          }
        }
      ]
    },
    {
      "cell_type": "markdown",
      "metadata": {
        "id": "p-QoU4J-2jLe",
        "colab_type": "text"
      },
      "source": [
        "最初はうまく動いているように見えますが、途中から悪くなっているのが分かるかと思います。\n",
        "\n",
        "これは、非線形モデルに対して接線形近似を行って線形最適化問題を解いているため、予報誤差共分散が過小評価される傾向にあるためです。\n",
        "\n",
        "対策として、予報誤差共分散を人工的に膨張させます（誤差共分散膨張）。"
      ]
    },
    {
      "cell_type": "code",
      "metadata": {
        "id": "2_rzNVSt3DfY",
        "colab_type": "code",
        "colab": {
          "base_uri": "https://localhost:8080/",
          "height": 272
        },
        "outputId": "9a52d0d3-b832-491b-8a51-eaa87712d32a"
      },
      "source": [
        "kf = KalmanFilter(Lorenz96, n)\n",
        "# set observation error covariance matrix (diagonal)\n",
        "r = np.identity(n, dtype=np.float64) * obs_err_std\n",
        "# set observation operator matrix (use identity)\n",
        "h = np.identity(n, dtype=np.float64)\n",
        "x_new = []\n",
        "pa_hist = []\n",
        "analysis_intv = 10\n",
        "\n",
        "# MAIN LOOP\n",
        "for i in range(exp_length // analysis_intv):\n",
        "  for j in range(analysis_intv):\n",
        "    # time (i * analysis_intv + j) to (i * analysis_intv + j + 1)\n",
        "    xf, pf = kf.forward()\n",
        "  if (i + 1) * analysis_intv < exp_length:\n",
        "    if i % 100 == 0:\n",
        "      print(\"analysis \", i)\n",
        "    else:\n",
        "      print(\".\", end=\"\")\n",
        "    # multiplicative covariance inflation\n",
        "    kf.p_f *= 1.1\n",
        "    #\n",
        "    xa, pa = kf.analysis(h, obs[(i + 1) * analysis_intv, :], r)\n",
        "    x_new.append(((i + 1) * analysis_intv, xa.copy()))\n",
        "    pa_hist.append(pa.copy())\n",
        "pa_mean = np.mean(np.array(pa_hist), 0)\n",
        "print(\"done\")"
      ],
      "execution_count": 46,
      "outputs": [
        {
          "output_type": "stream",
          "text": [
            "analysis  0\n",
            "...................................................................................................analysis  100\n",
            "...................................................................................................analysis  200\n",
            "...................................................................................................analysis  300\n",
            "...................................................................................................analysis  400\n",
            "...................................................................................................analysis  500\n",
            "...................................................................................................analysis  600\n",
            "...................................................................................................analysis  700\n",
            "...................................................................................................analysis  800\n",
            "...................................................................................................analysis  900\n",
            "...................................................................................................analysis  1000\n",
            "...................................................................................................analysis  1100\n",
            "...................................................................................................analysis  1200\n",
            "...................................................................................................analysis  1300\n",
            "......................................done\n"
          ],
          "name": "stdout"
        }
      ]
    },
    {
      "cell_type": "markdown",
      "metadata": {
        "id": "sMt7SdcQ3Xj6",
        "colab_type": "text"
      },
      "source": [
        "結果を確認します。"
      ]
    },
    {
      "cell_type": "code",
      "metadata": {
        "id": "pY3kMVxH3Wqi",
        "colab_type": "code",
        "colab": {
          "base_uri": "https://localhost:8080/",
          "height": 296
        },
        "outputId": "35ff0ca7-9db9-440c-b17e-f63aefbca5c7"
      },
      "source": [
        "rmse = []\n",
        "for xx in x_new:\n",
        "  if xx[0] < nature.shape[0]:\n",
        "    rmse.append((xx[0], math.sqrt(((nature[xx[0]] - xx[1]) ** 2).sum() / n)))\n",
        "rmse = np.array(rmse) \n",
        "\n",
        "plt.plot(rmse[:, 0], rmse[:, 1])\n",
        "plt.xlabel('time step')\n",
        "plt.ylabel('root mean square error')"
      ],
      "execution_count": 47,
      "outputs": [
        {
          "output_type": "execute_result",
          "data": {
            "text/plain": [
              "Text(0, 0.5, 'root mean square error')"
            ]
          },
          "metadata": {
            "tags": []
          },
          "execution_count": 47
        },
        {
          "output_type": "display_data",
          "data": {
            "image/png": "[encoded data removed]",
            "text/plain": [
              "<Figure size 432x288 with 1 Axes>"
            ]
          },
          "metadata": {
            "tags": []
          }
        }
      ]
    },
    {
      "cell_type": "markdown",
      "metadata": {
        "id": "_0robvxJ90Ui",
        "colab_type": "text"
      },
      "source": [
        "誤差が低く抑えられていることが分かります。\n",
        "\n",
        "Lorenz96モデルでカルマンフィルタを動かすと、観測誤差の標準偏差が1.0の場合は、解析root mean square errorは約0.2になります。\n",
        "\n",
        "つまり、観測誤差よりも解析誤差を小さくすることが出来ます。\n",
        "\n",
        "次に、カルマンフィルタの肝である、誤差共分散行列を見てみます。まずは瞬間値です。"
      ]
    },
    {
      "cell_type": "code",
      "metadata": {
        "id": "nxH4oUbnBrLX",
        "colab_type": "code",
        "colab": {
          "base_uri": "https://localhost:8080/",
          "height": 300
        },
        "outputId": "0a2bbd86-c792-4dae-9589-dbe763d205fa"
      },
      "source": [
        "max = np.max(np.abs(kf.p_f))\n",
        "plt.pcolormesh(kf.p_f, cmap=\"nipy_spectral\", vmin=-max, vmax=max)\n",
        "plt.gca().set_aspect('equal')\n",
        "plt.xlabel('location')\n",
        "plt.ylabel('location')\n",
        "plt.colorbar()"
      ],
      "execution_count": 48,
      "outputs": [
        {
          "output_type": "execute_result",
          "data": {
            "text/plain": [
              "<matplotlib.colorbar.Colorbar at 0x7fa9060fee48>"
            ]
          },
          "metadata": {
            "tags": []
          },
          "execution_count": 48
        },
        {
          "output_type": "display_data",
          "data": {
            "image/png": "[encoded data removed]",
            "text/plain": [
              "<Figure size 432x288 with 2 Axes>"
            ]
          },
          "metadata": {
            "tags": []
          }
        }
      ]
    },
    {
      "cell_type": "markdown",
      "metadata": {
        "id": "El5_bYn2L67I",
        "colab_type": "text"
      },
      "source": [
        "時間平均したものも見てみます。"
      ]
    },
    {
      "cell_type": "code",
      "metadata": {
        "id": "uPZcUIr9L4Nd",
        "colab_type": "code",
        "colab": {
          "base_uri": "https://localhost:8080/",
          "height": 300
        },
        "outputId": "3c9c87c6-6014-43bb-ff86-c79d1f28ef20"
      },
      "source": [
        "max = np.max(np.abs(pa_mean))\n",
        "plt.pcolormesh(pa_mean, cmap=\"nipy_spectral\", vmin=-max, vmax=max)\n",
        "plt.gca().set_aspect('equal')\n",
        "plt.xlabel('location')\n",
        "plt.ylabel('location')\n",
        "plt.colorbar()"
      ],
      "execution_count": 49,
      "outputs": [
        {
          "output_type": "execute_result",
          "data": {
            "text/plain": [
              "<matplotlib.colorbar.Colorbar at 0x7fa906027da0>"
            ]
          },
          "metadata": {
            "tags": []
          },
          "execution_count": 49
        },
        {
          "output_type": "display_data",
          "data": {
            "image/png": "[encoded data removed]",
            "text/plain": [
              "<Figure size 432x288 with 2 Axes>"
            ]
          },
          "metadata": {
            "tags": []
          }
        }
      ]
    },
    {
      "cell_type": "markdown",
      "metadata": {
        "id": "JKDxljO8CJ9G",
        "colab_type": "text"
      },
      "source": [
        "対称行列で、非対角成分はほとんどの場所で小さいですが、対角成分とその周辺に構造が見えます。\n",
        "\n",
        "元の予報方程式では、自分の点の前後2点先までを含む式になっています。そのため、対角成分から二つ隣まで、大きな値が入る傾向があります。\n",
        "\n",
        "この構造が、時々刻々と変化します。それに応じて観測の情報を最適に取り込むことで、精度の高い解析を実現します。\n",
        "\n",
        "この行列の大きさは、元のモデルの次元の二乗になります。低次元のシステムでは陽に行列を持つことが出来ますが、大次元のシステムでは行列が計算機のメモリーに乗らなくなります。"
      ]
    },
    {
      "cell_type": "markdown",
      "metadata": {
        "id": "NVRaKD9TB58j",
        "colab_type": "text"
      },
      "source": [
        "大次元システムにカルマンフィルタを適用する場合には、予報誤差共分散行列を陽に持たず、摂動を加えたシミュレーションを多数実行して変数間の相関を見積もる、アンサンブルカルマンフィルタが用いられます。\n",
        "\n",
        "実装方法は複数ありますが、大別すると以下の二つです：\n",
        "\n",
        "\n",
        "1.   摂動観測法　Perturbed Observation (PO) method\n",
        "2.   平方根フィルタ　Square root filter (SRF)\n",
        "\n",
        "平方根フィルタはさらに多数の実装方法に細分化されます。"
      ]
    },
    {
      "cell_type": "markdown",
      "metadata": {
        "id": "Sh-pCmk0ICIl",
        "colab_type": "text"
      },
      "source": [
        "PO法の式は以下で与えられます。\n",
        "\n",
        "1. 時刻 i から i + 1 への予報：\n",
        "\n",
        "x<sup>f(k)</sup><sub>i + 1</sub> = m(x<sup>a(k)</sup><sub>i</sub>) ：状態変数のアンサンブル予報 (k = 1, ..., K)\n",
        "\n",
        "2. 時刻 i でのアンサンブル平均場の解析：\n",
        "\n",
        "x<sup>f</sup><sub>i + 1</sub> = (1 / K) Σ<sub>k = 1,...,K</sub> x<sup>f(k)</sup><sub>i + 1</sub> ：アンサンブル平均場\n",
        "\n",
        "dx<sup>(k)</sup> = x<sup>f(k)</sup><sub>i + 1</sub> - x<sup>f</sup><sub>i + 1</sub> ：アンサンブル摂動\n",
        "\n",
        "Z<sub>i + 1</sub> = (1/sqrt(K - 1)) (dx<sup>(1)</sup>, dx<sup>(2)</sup>, ..., dx<sup>(K)</sup>) ：アンサンブル摂動の列ベクトルを束ねた行列\n",
        "\n",
        "P<sup>f</sup><sub>i + 1</sub> = Z<sub>i + 1</sub> Z<sup>T</sup><sub>i + 1</sub> ：予報誤差共分散の近似（実際には解かない）\n",
        "\n",
        "Y<sub>i + 1</sub> = H<sub>i + 1</sub> Z<sub>i + 1</sub> ：アンサンブル摂動の観測空間への写像\n",
        "\n",
        "K<sub>i</sub> = Z<sub>i</sub> Y<sup>T</sup><sub>i</sub> (Y<sub>i</sub> Y<sup>T</sup><sub>i</sub> + R<sub>i</sub>)<sup>-1</sup> ：カルマンゲイン\n",
        "\n",
        "x<sup>a</sup><sub>i</sub> = x<sup>f</sup><sub>i</sub> + K<sub>i</sub> (y<sup>o</sup><sub>i</sub> - H<sub>i</sub> x<sup>f</sup><sub>i</sub>) ：状態変数の解析\n",
        "\n",
        "3. 時刻 i での各アンサンブルメンバーの解析：\n",
        "\n",
        "σ<sup>o</sup> ：観測誤差共分散 R<sub>i</sub> の対角成分の平方根\n",
        "\n",
        "y<sup>o(k)</sup> = y<sup>o</sup> + N(0, σ<sup>o</sup>) ：観測に観測誤差相当の正規乱数を加える（各アンサンブルメンバー、各変数独立に）\n",
        "\n",
        "x<sup>a(k)</sup><sub>i</sub> = x<sup>f(k)</sup><sub>i</sub> + K<sub>i</sub> (y<sup>o(k)</sup><sub>i</sub> - H<sub>i</sub> x<sup>f(k)</sup><sub>i</sub>) ：状態変数の解析\n"
      ]
    },
    {
      "cell_type": "code",
      "metadata": {
        "id": "Jk4UzeAh26PF",
        "colab_type": "code",
        "colab": {}
      },
      "source": [
        "class EnKF_PO:\n",
        "  def __init__(self, model, n = 40, f = 8, dt = 0.005, k = 20, localization = None):\n",
        "    \"\"\"\n",
        "    model: model constructor\n",
        "    n: model size\n",
        "    f: external forcing\n",
        "    dt: time interval of model time integration\n",
        "    n, f, dt will be passed to the model constructor\n",
        "    k: ensemble size\n",
        "    localization: K-localization length scale (if it is not None)\n",
        "    \"\"\"\n",
        "    self.n = n\n",
        "    self.f = f\n",
        "    self.dt = dt\n",
        "    self.k = k\n",
        "    self.localization = localization\n",
        "    # models\n",
        "    self.ensemble = []\n",
        "    for i in range(k):\n",
        "      self.ensemble.append(model(n, f, dt))\n",
        "    return\n",
        "  \n",
        "  def forward(self):\n",
        "    \"\"\"\n",
        "    This function updates the model state.\n",
        "    \"\"\"\n",
        "    for i in range(self.k):\n",
        "      self.ensemble[i].runge_kutta()\n",
        "    return\n",
        "\n",
        "  def mean(self):\n",
        "    x_mean = self.ensemble[0].x.copy()\n",
        "    for i in range(1, self.k):\n",
        "      x_mean += self.ensemble[i].x\n",
        "    x_mean /= self.k\n",
        "    return x_mean\n",
        "\n",
        "  def k_localization(self, h, scale):\n",
        "    loc = np.zeros(h.shape[0], dtype=np.float64)\n",
        "    for i in range(h.shape[0]):\n",
        "      tmploc = 0\n",
        "      tmpweight = 0\n",
        "      for j in range(h.shape[1]):\n",
        "        abs = np.abs(h[i, j])\n",
        "        tmploc += j * abs\n",
        "        tmpweight += abs\n",
        "      loc[i] = tmploc / tmpweight\n",
        "    k_loc = np.zeros_like(h.T)\n",
        "    for i in range(h.shape[0]): # num of obs\n",
        "      for j in range(h.shape[1]): # model size\n",
        "        dist = np.min(np.mod(np.array((loc[i] - j, j - loc[i])), n))\n",
        "        k_loc[j, i] = math.exp(-((dist / (math.sqrt(2) * scale)) ** 2)) # Gaussian tapering\n",
        "    return k_loc\n",
        "\n",
        "  def analysis(self, h, y, r):\n",
        "    \"\"\"\n",
        "    This function performs the Ensemble Kalman filtering.\n",
        "    h: observation operator matrix\n",
        "    y: a vector of observations\n",
        "    r: observation error covariance matrix\n",
        "    \"\"\"\n",
        "    xx = self.mean()[:, np.newaxis]\n",
        "\n",
        "    z = np.zeros((self.n, self.k), dtype=np.float64)\n",
        "    for i in range(self.k):\n",
        "      z[:, i] = self.ensemble[i].x\n",
        "    z -= xx\n",
        "    z /= math.sqrt(self.k - 1)\n",
        "    hz = h @ z\n",
        "\n",
        "    if len(y.shape) == 1:\n",
        "      yy = y[:, np.newaxis]\n",
        "    else:\n",
        "      yy = y\n",
        "\n",
        "    kalman_gain = z @ (hz.T) @ LA.inv(hz @ (hz.T) + r)\n",
        "    if self.localization is not None:\n",
        "      kalman_gain *= self.k_localization(h, self.localization)\n",
        "\n",
        "    # mean update\n",
        "    xx += kalman_gain @ (yy - h @ xx)\n",
        "\n",
        "    # ensemble update\n",
        "    obs_err = np.zeros((y.shape[0], 1))\n",
        "    for i in range(y.shape[0]):\n",
        "      obs_err[i, 0] = r[i, i]\n",
        "    obs_err = np.sqrt(obs_err)\n",
        "    for i in range(self.k):\n",
        "      x_ens = self.ensemble[i].x[:, np.newaxis]\n",
        "      yy_pert = yy + np.random.randn(y.shape[0], 1) * obs_err\n",
        "      x_ens += kalman_gain @ (yy_pert - h @ x_ens)\n",
        "\n",
        "    return xx[:, 0]"
      ],
      "execution_count": 0,
      "outputs": []
    },
    {
      "cell_type": "markdown",
      "metadata": {
        "id": "KuuAue_oCsqp",
        "colab_type": "text"
      },
      "source": [
        "アンサンブル数10で実験してみます。\n",
        "\n",
        "アンサンブル予報の初期値は標準偏差10の正規乱数にしています。\n",
        "\n",
        "（モデル状態変数の変動幅がそのくらいあるため。）"
      ]
    },
    {
      "cell_type": "code",
      "metadata": {
        "id": "JDqltanNA6pj",
        "colab_type": "code",
        "colab": {
          "base_uri": "https://localhost:8080/",
          "height": 272
        },
        "outputId": "fccabf8a-018c-4770-c12f-19316b0ce764"
      },
      "source": [
        "kk = 10 # ensemble size\n",
        "enkf_po = EnKF_PO(Lorenz96, n, k = kk)\n",
        "# initial ensemble perturbation\n",
        "for i in range(kk):\n",
        "  enkf_po.ensemble[i].x += np.random.randn(n) * 10.0 # approximate error of the initial state\n",
        "# set observation error covariance matrix (diagonal)\n",
        "r = np.identity(n, dtype=np.float64) * obs_err_std\n",
        "# set observation operator matrix (use identity)\n",
        "h = np.identity(n, dtype=np.float64)\n",
        "x_po10 = []\n",
        "analysis_intv = 10\n",
        "\n",
        "# MAIN LOOP\n",
        "for i in range(exp_length // analysis_intv):\n",
        "  for j in range(analysis_intv):\n",
        "    # time (i * analysis_intv + j) to (i * analysis_intv + j + 1)\n",
        "    xf = enkf_po.forward()\n",
        "  if (i + 1) * analysis_intv < exp_length:\n",
        "    if i % 100 == 0:\n",
        "      print(\"analysis \", i)\n",
        "    else:\n",
        "      print(\".\", end=\"\")\n",
        "    # multiplicative covariance inflation\n",
        "    x_mean = enkf_po.mean()\n",
        "    for ii in range(kk):\n",
        "      enkf_po.ensemble[ii].x = x_mean + (enkf_po.ensemble[ii].x - x_mean) * math.sqrt(1.1)\n",
        "    #\n",
        "    xa = enkf_po.analysis(h, obs[(i + 1) * analysis_intv, :], r)\n",
        "    x_po10.append(((i + 1) * analysis_intv, xa))\n",
        "print(\"done\")"
      ],
      "execution_count": 51,
      "outputs": [
        {
          "output_type": "stream",
          "text": [
            "analysis  0\n",
            "...................................................................................................analysis  100\n",
            "...................................................................................................analysis  200\n",
            "...................................................................................................analysis  300\n",
            "...................................................................................................analysis  400\n",
            "...................................................................................................analysis  500\n",
            "...................................................................................................analysis  600\n",
            "...................................................................................................analysis  700\n",
            "...................................................................................................analysis  800\n",
            "...................................................................................................analysis  900\n",
            "...................................................................................................analysis  1000\n",
            "...................................................................................................analysis  1100\n",
            "...................................................................................................analysis  1200\n",
            "...................................................................................................analysis  1300\n",
            "......................................done\n"
          ],
          "name": "stdout"
        }
      ]
    },
    {
      "cell_type": "markdown",
      "metadata": {
        "id": "pBjw5wbEKqMg",
        "colab_type": "text"
      },
      "source": [
        "結果はどうでしょうか。"
      ]
    },
    {
      "cell_type": "code",
      "metadata": {
        "id": "gRrriQq1EjRA",
        "colab_type": "code",
        "colab": {
          "base_uri": "https://localhost:8080/",
          "height": 296
        },
        "outputId": "7caffc41-03aa-4b74-d8d0-24ce0d813b50"
      },
      "source": [
        "rmse = []\n",
        "for xx in x_po10:\n",
        "  if xx[0] < nature.shape[0]:\n",
        "    rmse.append((xx[0], math.sqrt(((nature[xx[0]] - xx[1]) ** 2).sum() / n)))\n",
        "rmse = np.array(rmse) \n",
        "\n",
        "plt.plot(rmse[:, 0], rmse[:, 1])\n",
        "plt.xlabel('time step')\n",
        "plt.ylabel('root mean square error')"
      ],
      "execution_count": 52,
      "outputs": [
        {
          "output_type": "execute_result",
          "data": {
            "text/plain": [
              "Text(0, 0.5, 'root mean square error')"
            ]
          },
          "metadata": {
            "tags": []
          },
          "execution_count": 52
        },
        {
          "output_type": "display_data",
          "data": {
            "image/png": "[encoded data removed]",
            "text/plain": [
              "<Figure size 432x288 with 1 Axes>"
            ]
          },
          "metadata": {
            "tags": []
          }
        }
      ]
    },
    {
      "cell_type": "markdown",
      "metadata": {
        "id": "Vst0usEuEneq",
        "colab_type": "text"
      },
      "source": [
        "アンサンブル数が少ないと、一般にうまく動かないです。\n",
        "\n",
        "アンサンブルカルマンフィルタは、アンサンブルメンバー間の相関を使って予報誤差共分散を近似します（モンテカルロ近似）。アンサンブル数が少ないと、サンプリング誤差が大きくなります。"
      ]
    },
    {
      "cell_type": "code",
      "metadata": {
        "id": "2Q6SWkwRFl-r",
        "colab_type": "code",
        "colab": {
          "base_uri": "https://localhost:8080/",
          "height": 300
        },
        "outputId": "6a2d175c-2225-47fd-e8f8-ea7512c01f05"
      },
      "source": [
        "xx = enkf_po.mean()[:, np.newaxis]\n",
        "\n",
        "z = np.zeros((enkf_po.n, enkf_po.k), dtype=np.float64)\n",
        "for i in range(enkf_po.k):\n",
        "  z[:, i] = enkf_po.ensemble[i].x\n",
        "z -= xx\n",
        "z /= math.sqrt(enkf_po.k - 1)\n",
        "p_f = z @ (z.T)\n",
        "\n",
        "max = np.max(np.abs(p_f))\n",
        "plt.pcolormesh(p_f, cmap=\"nipy_spectral\", vmin=-max, vmax=max)\n",
        "plt.gca().set_aspect('equal')\n",
        "plt.xlabel('location')\n",
        "plt.ylabel('location')\n",
        "plt.colorbar()"
      ],
      "execution_count": 53,
      "outputs": [
        {
          "output_type": "execute_result",
          "data": {
            "text/plain": [
              "<matplotlib.colorbar.Colorbar at 0x7fa905f9ac18>"
            ]
          },
          "metadata": {
            "tags": []
          },
          "execution_count": 53
        },
        {
          "output_type": "display_data",
          "data": {
            "image/png": "[encoded data removed]",
            "text/plain": [
              "<Figure size 432x288 with 2 Axes>"
            ]
          },
          "metadata": {
            "tags": []
          }
        }
      ]
    },
    {
      "cell_type": "markdown",
      "metadata": {
        "id": "b23RU2RMFjEU",
        "colab_type": "text"
      },
      "source": [
        "サンプリング誤差を抑えるため、予報誤差共分散の局所化を行います。\n",
        "\n",
        "物理的に相関が無いと考えられる変数間（例えば遠く離れた点同士）の相関を人為的に低下させます。\n",
        "\n",
        "ここでは距離に応じて正規分布で減衰させます。"
      ]
    },
    {
      "cell_type": "code",
      "metadata": {
        "id": "9W3rm81eVbky",
        "colab_type": "code",
        "colab": {
          "base_uri": "https://localhost:8080/",
          "height": 300
        },
        "outputId": "5934cff9-dfa3-4a02-ac3d-2cb1f8b07fac"
      },
      "source": [
        "scale = 5.0 # localization length scale\n",
        "for i in range(enkf_po.n - 1):\n",
        "  for j in range(i + 1, enkf_po.n):\n",
        "    dist = np.min(np.mod(np.array((j - i, i - j)), n))\n",
        "    p_f[i, j] *= math.exp(-((dist / (math.sqrt(2) * scale)) ** 2)) # Gaussian tapering\n",
        "    p_f[j, i] = p_f[i, j]\n",
        "\n",
        "max = np.max(np.abs(p_f))\n",
        "plt.pcolormesh(p_f, cmap=\"nipy_spectral\", vmin=-max, vmax=max)\n",
        "plt.gca().set_aspect('equal')\n",
        "plt.xlabel('location')\n",
        "plt.ylabel('location')\n",
        "plt.colorbar()"
      ],
      "execution_count": 54,
      "outputs": [
        {
          "output_type": "execute_result",
          "data": {
            "text/plain": [
              "<matplotlib.colorbar.Colorbar at 0x7fa905ed1470>"
            ]
          },
          "metadata": {
            "tags": []
          },
          "execution_count": 54
        },
        {
          "output_type": "display_data",
          "data": {
            "image/png": "[encoded data removed]",
            "text/plain": [
              "<Figure size 432x288 with 2 Axes>"
            ]
          },
          "metadata": {
            "tags": []
          }
        }
      ]
    },
    {
      "cell_type": "markdown",
      "metadata": {
        "id": "Swq2DOzEdsGV",
        "colab_type": "text"
      },
      "source": [
        "予報誤差共分散行列を陽に解かないアンサンブルカルマンフィルタの実装においては、近似的に実装されます。カルマンゲインを調節する方法と、観測誤差を調整する方法があります。ここではカルマンゲインを調節します。"
      ]
    },
    {
      "cell_type": "code",
      "metadata": {
        "id": "TBz3oygRZwtt",
        "colab_type": "code",
        "colab": {
          "base_uri": "https://localhost:8080/",
          "height": 272
        },
        "outputId": "cb8db712-10a4-4e8d-e204-7b482254d8c2"
      },
      "source": [
        "kk = 10 # ensemble size\n",
        "scale = 3 # localization scale\n",
        "enkf_po = EnKF_PO(Lorenz96, n, k = kk, localization = scale)\n",
        "# initial ensemble perturbation\n",
        "for i in range(kk):\n",
        "  enkf_po.ensemble[i].x += np.random.randn(n) * 10.0 # approximate error of the initial state\n",
        "# set observation error covariance matrix (diagonal)\n",
        "r = np.identity(n, dtype=np.float64) * obs_err_std\n",
        "# set observation operator matrix (use identity)\n",
        "h = np.identity(n, dtype=np.float64)\n",
        "x_po10loc = []\n",
        "analysis_intv = 10\n",
        "\n",
        "# MAIN LOOP\n",
        "for i in range(exp_length // analysis_intv):\n",
        "  for j in range(analysis_intv):\n",
        "    # time (i * analysis_intv + j) to (i * analysis_intv + j + 1)\n",
        "    xf = enkf_po.forward()\n",
        "  if (i + 1) * analysis_intv < exp_length:\n",
        "    if i % 100 == 0:\n",
        "      print(\"analysis \", i)\n",
        "    else:\n",
        "      print(\".\", end=\"\")\n",
        "    # multiplicative covariance inflation\n",
        "    x_mean = enkf_po.mean()\n",
        "    for ii in range(kk):\n",
        "      enkf_po.ensemble[ii].x = x_mean + (enkf_po.ensemble[ii].x - x_mean) * math.sqrt(1.1)\n",
        "    #\n",
        "    xa = enkf_po.analysis(h, obs[(i + 1) * analysis_intv, :], r)\n",
        "    x_po10loc.append(((i + 1) * analysis_intv, xa))\n",
        "print(\"done\")"
      ],
      "execution_count": 55,
      "outputs": [
        {
          "output_type": "stream",
          "text": [
            "analysis  0\n",
            "...................................................................................................analysis  100\n",
            "...................................................................................................analysis  200\n",
            "...................................................................................................analysis  300\n",
            "...................................................................................................analysis  400\n",
            "...................................................................................................analysis  500\n",
            "...................................................................................................analysis  600\n",
            "...................................................................................................analysis  700\n",
            "...................................................................................................analysis  800\n",
            "...................................................................................................analysis  900\n",
            "...................................................................................................analysis  1000\n",
            "...................................................................................................analysis  1100\n",
            "...................................................................................................analysis  1200\n",
            "...................................................................................................analysis  1300\n",
            "......................................done\n"
          ],
          "name": "stdout"
        }
      ]
    },
    {
      "cell_type": "code",
      "metadata": {
        "id": "kRAU7oEwi9TA",
        "colab_type": "code",
        "colab": {
          "base_uri": "https://localhost:8080/",
          "height": 296
        },
        "outputId": "c3d87e7a-fbb7-4ed0-cda8-aaf3885601ba"
      },
      "source": [
        "rmse = []\n",
        "for xx in x_po10loc:\n",
        "  if xx[0] < nature.shape[0]:\n",
        "    rmse.append((xx[0], math.sqrt(((nature[xx[0]] - xx[1]) ** 2).sum() / n)))\n",
        "rmse = np.array(rmse) \n",
        "\n",
        "plt.plot(rmse[:, 0], rmse[:, 1])\n",
        "plt.xlabel('time step')\n",
        "plt.ylabel('root mean square error')"
      ],
      "execution_count": 56,
      "outputs": [
        {
          "output_type": "execute_result",
          "data": {
            "text/plain": [
              "Text(0, 0.5, 'root mean square error')"
            ]
          },
          "metadata": {
            "tags": []
          },
          "execution_count": 56
        },
        {
          "output_type": "display_data",
          "data": {
            "image/png": "[encoded data removed]",
            "text/plain": [
              "<Figure size 432x288 with 1 Axes>"
            ]
          },
          "metadata": {
            "tags": []
          }
        }
      ]
    },
    {
      "cell_type": "markdown",
      "metadata": {
        "id": "0x-SWFdddkFM",
        "colab_type": "text"
      },
      "source": [
        "安定して動作するようになりました。"
      ]
    },
    {
      "cell_type": "markdown",
      "metadata": {
        "id": "QTKzFRJPpyJZ",
        "colab_type": "text"
      },
      "source": [
        "最後に、平方根フィルタの代表例である局所アンサンブル変換カルマンフィルタ (Local Ensemble Transform Kalman Filter, LETKF)を実装します。\n",
        "\n",
        "平方根フィルタでは、解析誤差共分散の平方根を取ることで次のステップのアンサンブル予報の初期値を得ます。この平方根の選び方は任意性があります。\n",
        "\n",
        "dx<sup>a(k)</sup><sub>i</sub> = x<sup>a(k)</sup><sub>i</sub> - x<sup>a</sup><sub>i</sub>\n",
        "\n",
        "dX<sup>a</sup> = (dx<sup>a(1)</sup><sub>i</sub>, dx<sup>a(2)</sup><sub>i</sub>, ..., dx<sup>a(K)</sup><sub>i</sub>)\n",
        "\n",
        "dX<sup>a</sup> = sqrt(K - 1) (P<sup>a</sup><sub>i</sub>)<sup>1/2</sup>\n",
        "\n",
        "LETKFでは、解析アンサンブル摂動が、予報アンサンブル摂動の線形結合で記述できると置いて、その線形変換行列 T を得ます。\n",
        "\n",
        "dX<sup>a</sup> = dX<sup>f</sup> T\n",
        "\n",
        "LETKFではカルマンゲインを直接計算しないため、観測誤差を調整して近似的に共分散局所化を行います。ここでは階段関数で局所化しています。すなわち、ある点から一定の距離以内にある観測だけを用いてデータ同化を行います。この操作を各点毎に独立に行います。\n",
        "\n",
        "モデル格子点の数と同じ回数、LETKFの式を解く必要がありますが、各格子点の解析は互いに独立なため、並列計算に向いています。"
      ]
    },
    {
      "cell_type": "code",
      "metadata": {
        "id": "r5DZ3eVOid0D",
        "colab_type": "code",
        "colab": {}
      },
      "source": [
        "class LETKF:\n",
        "  def __init__(self, model, n = 40, f = 8, dt = 0.005, k = 20, localization = 5, inflation = 1.0):\n",
        "    \"\"\"\n",
        "    model: model constructor\n",
        "    n: model size\n",
        "    f: external forcing\n",
        "    dt: time interval of model time integration\n",
        "    n, f, dt will be passed to the model constructor\n",
        "    k: ensemble size\n",
        "    localization: localization patch radius\n",
        "    inflation: multiplicative covariance inflation\n",
        "    \"\"\"\n",
        "    self.n = n\n",
        "    self.f = f\n",
        "    self.dt = dt\n",
        "    self.k = k\n",
        "    self.localization = localization\n",
        "    self.infl = math.sqrt(inflation)\n",
        "    # models\n",
        "    self.ensemble = []\n",
        "    for i in range(k):\n",
        "      self.ensemble.append(model(n, f, dt))\n",
        "    return\n",
        "  \n",
        "  def forward(self):\n",
        "    \"\"\"\n",
        "    This function updates the model state.\n",
        "    \"\"\"\n",
        "    for i in range(self.k):\n",
        "      self.ensemble[i].runge_kutta()\n",
        "    return\n",
        "\n",
        "  def mean(self):\n",
        "    x_mean = self.ensemble[0].x.copy()\n",
        "    for i in range(1, self.k):\n",
        "      x_mean += self.ensemble[i].x\n",
        "    x_mean /= self.k\n",
        "    return x_mean\n",
        "\n",
        "  def analysis(self, h, y, r):\n",
        "    \"\"\"\n",
        "    This function performs LETKF.\n",
        "    h: observation operator matrix\n",
        "    y: a vector of observations\n",
        "    r: observation error covariance matrix\n",
        "    \"\"\"\n",
        "\n",
        "    # forecast ensemble mean\n",
        "    x = self.mean()[:, np.newaxis]\n",
        "    # forecast ensemble perturbation divided by sqrt(self.k - 1)\n",
        "    z = np.zeros((self.n, self.k), dtype=np.float64)\n",
        "    for i in range(self.k):\n",
        "      z[:, i] = self.ensemble[i].x\n",
        "    z -= x\n",
        "    z /= math.sqrt(self.k - 1)\n",
        "    # forecast ensemble perturbation in the observation space\n",
        "    hzz = h @ z\n",
        "\n",
        "    hx0 = h @ x\n",
        "    hx = np.zeros((y.shape[0], self.k), dtype=np.float64)\n",
        "    for i in range(self.k):\n",
        "      hx[:, i] = hx0[:, 0]\n",
        "    # mismatch between the forecast ensemble mean and observation (called \"innovation\")\n",
        "    y_hx = y[:, np.newaxis] - hx\n",
        "\n",
        "    # analysis at each location\n",
        "    for ia in range(self.n):\n",
        "      x_ia = x[ia, :] # ensemble mean at this location\n",
        "      z_ia = z[ia, :] # ensemble perturbation at this location\n",
        "\n",
        "      # search local observations within the localization radius\n",
        "      obs_loc = self.search_obs(ia, h)\n",
        "      if len(obs_loc) == 0:\n",
        "        continue\n",
        "      hz_loc = hzz[obs_loc] # forecast ensemble perturbation in the observation space at this location\n",
        "      y_hx_loc = y_hx[obs_loc, :] # innovation for local observations\n",
        "      r_inv_loc = LA.inv(r[obs_loc, :][:, obs_loc]) # inverse of observation error covariance for local observations\n",
        "\n",
        "      # only the value at this location is updated\n",
        "      x_a = self.letkf_core(x_ia, z_ia, hz_loc, y_hx_loc, r_inv_loc)\n",
        "      for i in range(self.k):\n",
        "        self.ensemble[i].x[ia] = x_a[i]\n",
        "    return self.mean()\n",
        "\n",
        "  def search_obs(self, ia, h):\n",
        "    patch = []\n",
        "    for i in range(ia - self.localization, ia + self.localization + 1):\n",
        "      patch.append(i % self.n)\n",
        "    obs_loc = []\n",
        "    for i in range(h.shape[0]):\n",
        "      if np.max(np.abs(h[i, patch])) > 0:\n",
        "        obs_loc.append(i)\n",
        "    return obs_loc\n",
        "\n",
        "  def letkf_core(self, x, z, hz, y_hx, r_inv):\n",
        "    \"\"\"\n",
        "    x: forecast ensemble mean\n",
        "    z: forecast ensemble perturbation divided by sqrt(self.k - 1)\n",
        "    hz: z in the observation space\n",
        "    y_hz: innovation\n",
        "    r_inv: inverse of observation error covariance\n",
        "    \"\"\"\n",
        "    # ensemble transform\n",
        "    hzT_r_inv = hz.T @ r_inv\n",
        "    u_d_u = hzT_r_inv @ hz\n",
        "    for i in range(u_d_u.shape[0]):\n",
        "      u_d_u[i, i] += 1.0\n",
        "    d, u = LA.eig(u_d_u)\n",
        "    d_inv = np.identity(d.shape[0], dtype=np.float64)\n",
        "    d_inv_sqrt = np.identity(d.shape[0], dtype=np.float64)\n",
        "    for i in range(d.shape[0]):\n",
        "      d_inv[i, i] = 1.0 / d[i]\n",
        "      d_inv_sqrt[i, i] = 1.0 / math.sqrt(d[i])\n",
        "\n",
        "    w = u @ d_inv @ u.T @ hzT_r_inv @ y_hx  # mean update\n",
        "    w += (u @ d_inv_sqrt @ u.T) * math.sqrt(self.k - 1) # ensemble update\n",
        "    x_a = (z @ w) * self.infl + x # covariance inflation is included here\n",
        "    return x_a\n"
      ],
      "execution_count": 0,
      "outputs": []
    },
    {
      "cell_type": "code",
      "metadata": {
        "id": "gxXyEm1Z7PaM",
        "colab_type": "code",
        "colab": {
          "base_uri": "https://localhost:8080/",
          "height": 272
        },
        "outputId": "5ea5df24-4782-4d5d-a062-c2ba31dd593d"
      },
      "source": [
        "kk = 10 # ensemble size\n",
        "scale = 5 # localization scale\n",
        "letkf = LETKF(Lorenz96, n, k = kk, localization = scale, inflation = 1.1)\n",
        "# initial ensemble perturbation\n",
        "for i in range(kk):\n",
        "  letkf.ensemble[i].x += np.random.randn(n) * 10.0 # approximate error of the initial state\n",
        "# set observation error covariance matrix (diagonal)\n",
        "r = np.identity(n, dtype=np.float64) * obs_err_std\n",
        "# set observation operator matrix (use identity)\n",
        "h = np.identity(n, dtype=np.float64)\n",
        "x_letkf10 = []\n",
        "analysis_intv = 10\n",
        "\n",
        "# MAIN LOOP\n",
        "for i in range(exp_length // analysis_intv):\n",
        "  for j in range(analysis_intv):\n",
        "    # time (i * analysis_intv + j) to (i * analysis_intv + j + 1)\n",
        "    xf = letkf.forward()\n",
        "  if (i + 1) * analysis_intv < exp_length:\n",
        "    if i % 100 == 0:\n",
        "      print(\"analysis \", i)\n",
        "    else:\n",
        "      print(\".\", end=\"\")\n",
        "    xa = letkf.analysis(h, obs[(i + 1) * analysis_intv, :], r)\n",
        "    x_letkf10.append(((i + 1) * analysis_intv, xa))\n",
        "print(\"done\")"
      ],
      "execution_count": 64,
      "outputs": [
        {
          "output_type": "stream",
          "text": [
            "analysis  0\n",
            "...................................................................................................analysis  100\n",
            "...................................................................................................analysis  200\n",
            "...................................................................................................analysis  300\n",
            "...................................................................................................analysis  400\n",
            "...................................................................................................analysis  500\n",
            "...................................................................................................analysis  600\n",
            "...................................................................................................analysis  700\n",
            "...................................................................................................analysis  800\n",
            "...................................................................................................analysis  900\n",
            "...................................................................................................analysis  1000\n",
            "...................................................................................................analysis  1100\n",
            "...................................................................................................analysis  1200\n",
            "...................................................................................................analysis  1300\n",
            "......................................done\n"
          ],
          "name": "stdout"
        }
      ]
    },
    {
      "cell_type": "code",
      "metadata": {
        "id": "ac5ScYTq8gJS",
        "colab_type": "code",
        "colab": {
          "base_uri": "https://localhost:8080/",
          "height": 296
        },
        "outputId": "d680b349-8575-41ed-a642-dff9a1a28187"
      },
      "source": [
        "rmse = []\n",
        "for xx in x_letkf10:\n",
        "  if xx[0] < nature.shape[0]:\n",
        "    rmse.append((xx[0], math.sqrt(((nature[xx[0]] - xx[1]) ** 2).sum() / n)))\n",
        "rmse = np.array(rmse) \n",
        "\n",
        "plt.plot(rmse[:, 0], rmse[:, 1])\n",
        "plt.xlabel('time step')\n",
        "plt.ylabel('root mean square error')"
      ],
      "execution_count": 65,
      "outputs": [
        {
          "output_type": "execute_result",
          "data": {
            "text/plain": [
              "Text(0, 0.5, 'root mean square error')"
            ]
          },
          "metadata": {
            "tags": []
          },
          "execution_count": 65
        },
        {
          "output_type": "display_data",
          "data": {
            "image/png": "[encoded data removed]",
            "text/plain": [
              "<Figure size 432x288 with 1 Axes>"
            ]
          },
          "metadata": {
            "tags": []
          }
        }
      ]
    },
    {
      "cell_type": "markdown",
      "metadata": {
        "id": "QGT9wXPOsuPi",
        "colab_type": "text"
      },
      "source": [
        "用意してある実験はここまでです。\n",
        "\n",
        "時間があれば、パラメータを変えて色々実験してみて下さい。"
      ]
    }
  ]
}